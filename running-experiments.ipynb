{
 "cells": [
  {
   "cell_type": "code",
   "execution_count": 1,
   "metadata": {},
   "outputs": [],
   "source": [
    "import pandas as pd"
   ]
  },
  {
   "cell_type": "code",
   "execution_count": 3,
   "metadata": {},
   "outputs": [],
   "source": [
    "df = pd.read_csv(\"./benchmark/benchmark.csv\")"
   ]
  },
  {
   "cell_type": "code",
   "execution_count": 4,
   "metadata": {},
   "outputs": [
    {
     "data": {
      "text/html": [
       "<div>\n",
       "<style scoped>\n",
       "    .dataframe tbody tr th:only-of-type {\n",
       "        vertical-align: middle;\n",
       "    }\n",
       "\n",
       "    .dataframe tbody tr th {\n",
       "        vertical-align: top;\n",
       "    }\n",
       "\n",
       "    .dataframe thead th {\n",
       "        text-align: right;\n",
       "    }\n",
       "</style>\n",
       "<table border=\"1\" class=\"dataframe\">\n",
       "  <thead>\n",
       "    <tr style=\"text-align: right;\">\n",
       "      <th></th>\n",
       "      <th>acc1</th>\n",
       "      <th>acc5</th>\n",
       "      <th>mean_per_class_recall</th>\n",
       "      <th>dataset</th>\n",
       "      <th>model</th>\n",
       "      <th>pretrained</th>\n",
       "      <th>task</th>\n",
       "      <th>mean_average_precision</th>\n",
       "      <th>image_retrieval_recall@5</th>\n",
       "      <th>text_retrieval_recall@5</th>\n",
       "      <th>model_fullname</th>\n",
       "    </tr>\n",
       "  </thead>\n",
       "  <tbody>\n",
       "    <tr>\n",
       "      <th>0</th>\n",
       "      <td>0.023234</td>\n",
       "      <td>0.115262</td>\n",
       "      <td>0.024205</td>\n",
       "      <td>vtab/dsprites_label_orientation</td>\n",
       "      <td>ViT-L-14</td>\n",
       "      <td>openai</td>\n",
       "      <td>zeroshot_classification</td>\n",
       "      <td>NaN</td>\n",
       "      <td>NaN</td>\n",
       "      <td>NaN</td>\n",
       "      <td>ViT-L-14 openai</td>\n",
       "    </tr>\n",
       "    <tr>\n",
       "      <th>1</th>\n",
       "      <td>0.446085</td>\n",
       "      <td>0.946921</td>\n",
       "      <td>0.394061</td>\n",
       "      <td>fer2013</td>\n",
       "      <td>ViT-B-16-plus-240</td>\n",
       "      <td>laion400m_e32</td>\n",
       "      <td>zeroshot_classification</td>\n",
       "      <td>NaN</td>\n",
       "      <td>NaN</td>\n",
       "      <td>NaN</td>\n",
       "      <td>ViT-B-16-plus-240 laion400m_e32</td>\n",
       "    </tr>\n",
       "    <tr>\n",
       "      <th>2</th>\n",
       "      <td>0.773867</td>\n",
       "      <td>0.936267</td>\n",
       "      <td>0.734575</td>\n",
       "      <td>imagenet-a</td>\n",
       "      <td>ViT-L-14-336</td>\n",
       "      <td>openai</td>\n",
       "      <td>zeroshot_classification</td>\n",
       "      <td>NaN</td>\n",
       "      <td>NaN</td>\n",
       "      <td>NaN</td>\n",
       "      <td>ViT-L-14-336 openai</td>\n",
       "    </tr>\n",
       "    <tr>\n",
       "      <th>3</th>\n",
       "      <td>0.445745</td>\n",
       "      <td>0.758511</td>\n",
       "      <td>0.449468</td>\n",
       "      <td>vtab/dtd</td>\n",
       "      <td>ViT-B-16</td>\n",
       "      <td>openai</td>\n",
       "      <td>zeroshot_classification</td>\n",
       "      <td>NaN</td>\n",
       "      <td>NaN</td>\n",
       "      <td>NaN</td>\n",
       "      <td>ViT-B-16 openai</td>\n",
       "    </tr>\n",
       "    <tr>\n",
       "      <th>4</th>\n",
       "      <td>0.752156</td>\n",
       "      <td>0.960811</td>\n",
       "      <td>0.751282</td>\n",
       "      <td>sun397</td>\n",
       "      <td>ViT-H-14</td>\n",
       "      <td>laion2b_s32b_b79k</td>\n",
       "      <td>zeroshot_classification</td>\n",
       "      <td>NaN</td>\n",
       "      <td>NaN</td>\n",
       "      <td>NaN</td>\n",
       "      <td>ViT-H-14 laion2b_s32b_b79k</td>\n",
       "    </tr>\n",
       "  </tbody>\n",
       "</table>\n",
       "</div>"
      ],
      "text/plain": [
       "       acc1      acc5  mean_per_class_recall                          dataset   \n",
       "0  0.023234  0.115262               0.024205  vtab/dsprites_label_orientation  \\\n",
       "1  0.446085  0.946921               0.394061                          fer2013   \n",
       "2  0.773867  0.936267               0.734575                       imagenet-a   \n",
       "3  0.445745  0.758511               0.449468                         vtab/dtd   \n",
       "4  0.752156  0.960811               0.751282                           sun397   \n",
       "\n",
       "               model         pretrained                     task   \n",
       "0           ViT-L-14             openai  zeroshot_classification  \\\n",
       "1  ViT-B-16-plus-240      laion400m_e32  zeroshot_classification   \n",
       "2       ViT-L-14-336             openai  zeroshot_classification   \n",
       "3           ViT-B-16             openai  zeroshot_classification   \n",
       "4           ViT-H-14  laion2b_s32b_b79k  zeroshot_classification   \n",
       "\n",
       "   mean_average_precision  image_retrieval_recall@5  text_retrieval_recall@5   \n",
       "0                     NaN                       NaN                      NaN  \\\n",
       "1                     NaN                       NaN                      NaN   \n",
       "2                     NaN                       NaN                      NaN   \n",
       "3                     NaN                       NaN                      NaN   \n",
       "4                     NaN                       NaN                      NaN   \n",
       "\n",
       "                    model_fullname  \n",
       "0                  ViT-L-14 openai  \n",
       "1  ViT-B-16-plus-240 laion400m_e32  \n",
       "2              ViT-L-14-336 openai  \n",
       "3                  ViT-B-16 openai  \n",
       "4       ViT-H-14 laion2b_s32b_b79k  "
      ]
     },
     "execution_count": 4,
     "metadata": {},
     "output_type": "execute_result"
    }
   ],
   "source": [
    "df.head()"
   ]
  },
  {
   "cell_type": "code",
   "execution_count": 9,
   "metadata": {},
   "outputs": [
    {
     "data": {
      "text/html": [
       "<div>\n",
       "<style scoped>\n",
       "    .dataframe tbody tr th:only-of-type {\n",
       "        vertical-align: middle;\n",
       "    }\n",
       "\n",
       "    .dataframe tbody tr th {\n",
       "        vertical-align: top;\n",
       "    }\n",
       "\n",
       "    .dataframe thead th {\n",
       "        text-align: right;\n",
       "    }\n",
       "</style>\n",
       "<table border=\"1\" class=\"dataframe\">\n",
       "  <thead>\n",
       "    <tr style=\"text-align: right;\">\n",
       "      <th></th>\n",
       "      <th>acc1</th>\n",
       "      <th>acc5</th>\n",
       "      <th>mean_per_class_recall</th>\n",
       "      <th>dataset</th>\n",
       "      <th>model</th>\n",
       "      <th>pretrained</th>\n",
       "      <th>task</th>\n",
       "      <th>mean_average_precision</th>\n",
       "      <th>image_retrieval_recall@5</th>\n",
       "      <th>text_retrieval_recall@5</th>\n",
       "      <th>model_fullname</th>\n",
       "    </tr>\n",
       "  </thead>\n",
       "  <tbody>\n",
       "    <tr>\n",
       "      <th>31</th>\n",
       "      <td>NaN</td>\n",
       "      <td>NaN</td>\n",
       "      <td>NaN</td>\n",
       "      <td>flickr8k</td>\n",
       "      <td>ViT-B-16-plus-240</td>\n",
       "      <td>laion400m_e32</td>\n",
       "      <td>zeroshot_retrieval</td>\n",
       "      <td>NaN</td>\n",
       "      <td>0.873200</td>\n",
       "      <td>0.9550</td>\n",
       "      <td>ViT-B-16-plus-240 laion400m_e32</td>\n",
       "    </tr>\n",
       "    <tr>\n",
       "      <th>280</th>\n",
       "      <td>NaN</td>\n",
       "      <td>NaN</td>\n",
       "      <td>NaN</td>\n",
       "      <td>flickr30k</td>\n",
       "      <td>ViT-B-16-plus-240</td>\n",
       "      <td>laion400m_e32</td>\n",
       "      <td>zeroshot_retrieval</td>\n",
       "      <td>NaN</td>\n",
       "      <td>0.889400</td>\n",
       "      <td>0.9710</td>\n",
       "      <td>ViT-B-16-plus-240 laion400m_e32</td>\n",
       "    </tr>\n",
       "    <tr>\n",
       "      <th>293</th>\n",
       "      <td>NaN</td>\n",
       "      <td>NaN</td>\n",
       "      <td>NaN</td>\n",
       "      <td>mscoco_captions</td>\n",
       "      <td>ViT-B-16-plus-240</td>\n",
       "      <td>laion400m_e32</td>\n",
       "      <td>zeroshot_retrieval</td>\n",
       "      <td>NaN</td>\n",
       "      <td>0.662095</td>\n",
       "      <td>0.8102</td>\n",
       "      <td>ViT-B-16-plus-240 laion400m_e32</td>\n",
       "    </tr>\n",
       "  </tbody>\n",
       "</table>\n",
       "</div>"
      ],
      "text/plain": [
       "     acc1  acc5  mean_per_class_recall          dataset              model   \n",
       "31    NaN   NaN                    NaN         flickr8k  ViT-B-16-plus-240  \\\n",
       "280   NaN   NaN                    NaN        flickr30k  ViT-B-16-plus-240   \n",
       "293   NaN   NaN                    NaN  mscoco_captions  ViT-B-16-plus-240   \n",
       "\n",
       "        pretrained                task  mean_average_precision   \n",
       "31   laion400m_e32  zeroshot_retrieval                     NaN  \\\n",
       "280  laion400m_e32  zeroshot_retrieval                     NaN   \n",
       "293  laion400m_e32  zeroshot_retrieval                     NaN   \n",
       "\n",
       "     image_retrieval_recall@5  text_retrieval_recall@5   \n",
       "31                   0.873200                   0.9550  \\\n",
       "280                  0.889400                   0.9710   \n",
       "293                  0.662095                   0.8102   \n",
       "\n",
       "                      model_fullname  \n",
       "31   ViT-B-16-plus-240 laion400m_e32  \n",
       "280  ViT-B-16-plus-240 laion400m_e32  \n",
       "293  ViT-B-16-plus-240 laion400m_e32  "
      ]
     },
     "execution_count": 9,
     "metadata": {},
     "output_type": "execute_result"
    }
   ],
   "source": [
    "model_df = df[df[\"model\"] == \"ViT-B-16-plus-240\"]\n",
    "model_df[model_df[\"task\"] == \"zeroshot_retrieval\"].head()"
   ]
  },
  {
   "cell_type": "code",
   "execution_count": 12,
   "metadata": {},
   "outputs": [
    {
     "name": "stdout",
     "output_type": "stream",
     "text": [
      "/home/ubuntu/rshaw/CLIP_benchmark\n"
     ]
    }
   ],
   "source": [
    "!pwd"
   ]
  },
  {
   "cell_type": "code",
   "execution_count": 14,
   "metadata": {},
   "outputs": [
    {
     "name": "stdout",
     "output_type": "stream",
     "text": [
      "\u001b[0m\u001b[01;34mmodels-rs\u001b[0m/\n",
      "screenlog.0\n",
      "textual_export-fp32-48sparse-obc_coco_10k-int8-fastobcq-dense_coco_10k.onnx\n",
      "textual_export-fp32-48sparse-obc_coco_10k.onnx\n",
      "textual_export-fp32-48sparse-obc_imbd_calib-int8-fastobcq-dense_imbd_calib.onnx\n",
      "textual_export-fp32-48sparse-obc_imbd_calib-int8-minmax-dense_imbd_calib.onnx\n",
      "textual_export-fp32-48sparse-obc_imbd_calib.onnx\n",
      "textual_export-fp32-50sparse-fastobcq_coco_calib.onnx\n",
      "textual_export-fp32-50sparse-fastobcq_coco_calib_train_split_10k-int8-fastobcq-dense_coco_calib_train_split_2k.onnx\n",
      "textual_export-fp32-50sparse-fastobcq_coco_calib_train_split_10k.onnx\n",
      "textual_export-fp32-50sparse-fastobcq_coco_calib_train_split_2k.onnx\n",
      "textual_export-fp32-50sparse-fastobcq_imbd_calib_damp_0001-int8-fastobcq-dense.onnx\n",
      "textual_export-fp32-50sparse-fastobcq_imbd_calib_damp_0001-int8-obq-dense.onnx\n",
      "textual_export-fp32-50sparse-fastobcq_imbd_calib_damp_0001.onnx\n",
      "textual_export-fp32-50sparse-fastobcq_imdb_calib.onnx\n",
      "textual_export-int8-fastobcq-dense_coco_calib.onnx\n",
      "textual_export-int8-fastobcq-dense_coco_calib_train_split_2k.onnx\n",
      "textual_export-int8-fastobcq-dense_imbd_calib.onnx\n",
      "textual_export-int8-fastobcq-dense.onnx\n",
      "textual_export-int8-minmax-dense.onnx\n",
      "textual_export-int8-obq-dense.onnx\n",
      "textual_export.onnx\n",
      "textual.onnx\n",
      "visual_export-fp32-45sparse-obc_v2-int8-fastobcq-dense.onnx\n",
      "visual_export-fp32-45sparse-obc_v2-int8-minmax-dense.onnx\n",
      "visual_export-fp32-45sparse-obc_v2-int8-obq-dense.onnx\n",
      "visual_export-fp32-45sparse-obc_v2.onnx\n",
      "visual_export-fp32-50sparse-fastobcq_damp_0001.onnx\n",
      "visual_export-fp32-50sparse-fastobcq.onnx\n",
      "visual_export-fp32-50sparse-obc.onnx\n",
      "visual_export-int8-fastobcq-dense.onnx\n",
      "visual_export-int8-minmax-dense.onnx\n",
      "visual_export-int8-obq-dense.onnx\n",
      "visual_export.onnx\n",
      "visual-fp32-50sparse-obc-int8-obq-dense.onnx\n",
      "visual.onnx\n",
      "vit_b_16_plus_240-laion400m_e32-699c4b84.pt\n"
     ]
    }
   ],
   "source": [
    "%ls models-rs/ViT-B-16-plus-240-laion400m_e32"
   ]
  },
  {
   "cell_type": "code",
   "execution_count": 64,
   "metadata": {},
   "outputs": [
    {
     "name": "stdout",
     "output_type": "stream",
     "text": [
      "Status code 429 from http://ipinfo.io/96.89.198.177/json: ERROR - 429 Client Error: Too Many Requests for url: http://ipinfo.io/96.89.198.177/json\n",
      "Status code 429 from http://ipinfo.io/96.89.198.177/json: ERROR - 429 Client Error: Too Many Requests for url: http://ipinfo.io/96.89.198.177/json\n",
      "Models: [('ViT-B-16-plus-240', 'laion400m_e32')]\n",
      "Datasets: ['imagenet1k']\n",
      "Languages: ['en']\n",
      "Running 'zeroshot_classification' on 'imagenet1k' with the model 'laion400m_e32' on language 'en'\n",
      "visual_export-fp32-45sparse-obc_v2.onnx textual_export-fp32-48sparse-obc_coco_10k.onnx\n",
      "Compiling models..\n",
      "./models-rs/ViT-B-16-plus-240-laion400m_e32/visual_export-fp32-45sparse-obc_v2.onnx\n",
      "./models-rs/ViT-B-16-plus-240-laion400m_e32/textual_export-fp32-48sparse-obc_coco_10k.onnx\n",
      "Dataset size: 50000\n",
      "Dataset split: test\n",
      "Dataset classes: ['tench', 'goldfish', 'great white shark', 'tiger shark', 'hammerhead shark', 'electric ray', 'stingray', 'rooster', 'hen', 'ostrich', 'brambling', 'goldfinch', 'house finch', 'junco', 'indigo bunting', 'American robin', 'bulbul', 'jay', 'magpie', 'chickadee', 'American dipper', 'kite (bird of prey)', 'bald eagle', 'vulture', 'great grey owl', 'fire salamander', 'smooth newt', 'newt', 'spotted salamander', 'axolotl', 'American bullfrog', 'tree frog', 'tailed frog', 'loggerhead sea turtle', 'leatherback sea turtle', 'mud turtle', 'terrapin', 'box turtle', 'banded gecko', 'green iguana', 'Carolina anole', 'desert grassland whiptail lizard', 'agama', 'frilled-necked lizard', 'alligator lizard', 'Gila monster', 'European green lizard', 'chameleon', 'Komodo dragon', 'Nile crocodile', 'American alligator', 'triceratops', 'worm snake', 'ring-necked snake', 'eastern hog-nosed snake', 'smooth green snake', 'kingsnake', 'garter snake', 'water snake', 'vine snake', 'night snake', 'boa constrictor', 'African rock python', 'Indian cobra', 'green mamba', 'sea snake', 'Saharan horned viper', 'eastern diamondback rattlesnake', 'sidewinder rattlesnake', 'trilobite', 'harvestman', 'scorpion', 'yellow garden spider', 'barn spider', 'European garden spider', 'southern black widow', 'tarantula', 'wolf spider', 'tick', 'centipede', 'black grouse', 'ptarmigan', 'ruffed grouse', 'prairie grouse', 'peafowl', 'quail', 'partridge', 'african grey parrot', 'macaw', 'sulphur-crested cockatoo', 'lorikeet', 'coucal', 'bee eater', 'hornbill', 'hummingbird', 'jacamar', 'toucan', 'duck', 'red-breasted merganser', 'goose', 'black swan', 'tusker', 'echidna', 'platypus', 'wallaby', 'koala', 'wombat', 'jellyfish', 'sea anemone', 'brain coral', 'flatworm', 'nematode', 'conch', 'snail', 'slug', 'sea slug', 'chiton', 'chambered nautilus', 'Dungeness crab', 'rock crab', 'fiddler crab', 'red king crab', 'American lobster', 'spiny lobster', 'crayfish', 'hermit crab', 'isopod', 'white stork', 'black stork', 'spoonbill', 'flamingo', 'little blue heron', 'great egret', 'bittern bird', 'crane bird', 'limpkin', 'common gallinule', 'American coot', 'bustard', 'ruddy turnstone', 'dunlin', 'common redshank', 'dowitcher', 'oystercatcher', 'pelican', 'king penguin', 'albatross', 'grey whale', 'killer whale', 'dugong', 'sea lion', 'Chihuahua', 'Japanese Chin', 'Maltese', 'Pekingese', 'Shih Tzu', 'King Charles Spaniel', 'Papillon', 'toy terrier', 'Rhodesian Ridgeback', 'Afghan Hound', 'Basset Hound', 'Beagle', 'Bloodhound', 'Bluetick Coonhound', 'Black and Tan Coonhound', 'Treeing Walker Coonhound', 'English foxhound', 'Redbone Coonhound', 'borzoi', 'Irish Wolfhound', 'Italian Greyhound', 'Whippet', 'Ibizan Hound', 'Norwegian Elkhound', 'Otterhound', 'Saluki', 'Scottish Deerhound', 'Weimaraner', 'Staffordshire Bull Terrier', 'American Staffordshire Terrier', 'Bedlington Terrier', 'Border Terrier', 'Kerry Blue Terrier', 'Irish Terrier', 'Norfolk Terrier', 'Norwich Terrier', 'Yorkshire Terrier', 'Wire Fox Terrier', 'Lakeland Terrier', 'Sealyham Terrier', 'Airedale Terrier', 'Cairn Terrier', 'Australian Terrier', 'Dandie Dinmont Terrier', 'Boston Terrier', 'Miniature Schnauzer', 'Giant Schnauzer', 'Standard Schnauzer', 'Scottish Terrier', 'Tibetan Terrier', 'Australian Silky Terrier', 'Soft-coated Wheaten Terrier', 'West Highland White Terrier', 'Lhasa Apso', 'Flat-Coated Retriever', 'Curly-coated Retriever', 'Golden Retriever', 'Labrador Retriever', 'Chesapeake Bay Retriever', 'German Shorthaired Pointer', 'Vizsla', 'English Setter', 'Irish Setter', 'Gordon Setter', 'Brittany dog', 'Clumber Spaniel', 'English Springer Spaniel', 'Welsh Springer Spaniel', 'Cocker Spaniel', 'Sussex Spaniel', 'Irish Water Spaniel', 'Kuvasz', 'Schipperke', 'Groenendael dog', 'Malinois', 'Briard', 'Australian Kelpie', 'Komondor', 'Old English Sheepdog', 'Shetland Sheepdog', 'collie', 'Border Collie', 'Bouvier des Flandres dog', 'Rottweiler', 'German Shepherd Dog', 'Dobermann', 'Miniature Pinscher', 'Greater Swiss Mountain Dog', 'Bernese Mountain Dog', 'Appenzeller Sennenhund', 'Entlebucher Sennenhund', 'Boxer', 'Bullmastiff', 'Tibetan Mastiff', 'French Bulldog', 'Great Dane', 'St. Bernard', 'husky', 'Alaskan Malamute', 'Siberian Husky', 'Dalmatian', 'Affenpinscher', 'Basenji', 'pug', 'Leonberger', 'Newfoundland dog', 'Great Pyrenees dog', 'Samoyed', 'Pomeranian', 'Chow Chow', 'Keeshond', 'brussels griffon', 'Pembroke Welsh Corgi', 'Cardigan Welsh Corgi', 'Toy Poodle', 'Miniature Poodle', 'Standard Poodle', 'Mexican hairless dog (xoloitzcuintli)', 'grey wolf', 'Alaskan tundra wolf', 'red wolf or maned wolf', 'coyote', 'dingo', 'dhole', 'African wild dog', 'hyena', 'red fox', 'kit fox', 'Arctic fox', 'grey fox', 'tabby cat', 'tiger cat', 'Persian cat', 'Siamese cat', 'Egyptian Mau', 'cougar', 'lynx', 'leopard', 'snow leopard', 'jaguar', 'lion', 'tiger', 'cheetah', 'brown bear', 'American black bear', 'polar bear', 'sloth bear', 'mongoose', 'meerkat', 'tiger beetle', 'ladybug', 'ground beetle', 'longhorn beetle', 'leaf beetle', 'dung beetle', 'rhinoceros beetle', 'weevil', 'fly', 'bee', 'ant', 'grasshopper', 'cricket insect', 'stick insect', 'cockroach', 'praying mantis', 'cicada', 'leafhopper', 'lacewing', 'dragonfly', 'damselfly', 'red admiral butterfly', 'ringlet butterfly', 'monarch butterfly', 'small white butterfly', 'sulphur butterfly', 'gossamer-winged butterfly', 'starfish', 'sea urchin', 'sea cucumber', 'cottontail rabbit', 'hare', 'Angora rabbit', 'hamster', 'porcupine', 'fox squirrel', 'marmot', 'beaver', 'guinea pig', 'common sorrel horse', 'zebra', 'pig', 'wild boar', 'warthog', 'hippopotamus', 'ox', 'water buffalo', 'bison', 'ram (adult male sheep)', 'bighorn sheep', 'Alpine ibex', 'hartebeest', 'impala (antelope)', 'gazelle', 'arabian camel', 'llama', 'weasel', 'mink', 'European polecat', 'black-footed ferret', 'otter', 'skunk', 'badger', 'armadillo', 'three-toed sloth', 'orangutan', 'gorilla', 'chimpanzee', 'gibbon', 'siamang', 'guenon', 'patas monkey', 'baboon', 'macaque', 'langur', 'black-and-white colobus', 'proboscis monkey', 'marmoset', 'white-headed capuchin', 'howler monkey', 'titi monkey', \"Geoffroy's spider monkey\", 'common squirrel monkey', 'ring-tailed lemur', 'indri', 'Asian elephant', 'African bush elephant', 'red panda', 'giant panda', 'snoek fish', 'eel', 'silver salmon', 'rock beauty fish', 'clownfish', 'sturgeon', 'gar fish', 'lionfish', 'pufferfish', 'abacus', 'abaya', 'academic gown', 'accordion', 'acoustic guitar', 'aircraft carrier', 'airliner', 'airship', 'altar', 'ambulance', 'amphibious vehicle', 'analog clock', 'apiary', 'apron', 'trash can', 'assault rifle', 'backpack', 'bakery', 'balance beam', 'balloon', 'ballpoint pen', 'Band-Aid', 'banjo', 'baluster / handrail', 'barbell', 'barber chair', 'barbershop', 'barn', 'barometer', 'barrel', 'wheelbarrow', 'baseball', 'basketball', 'bassinet', 'bassoon', 'swimming cap', 'bath towel', 'bathtub', 'station wagon', 'lighthouse', 'beaker', 'military hat (bearskin or shako)', 'beer bottle', 'beer glass', 'bell tower', 'baby bib', 'tandem bicycle', 'bikini', 'ring binder', 'binoculars', 'birdhouse', 'boathouse', 'bobsleigh', 'bolo tie', 'poke bonnet', 'bookcase', 'bookstore', 'bottle cap', 'hunting bow', 'bow tie', 'brass memorial plaque', 'bra', 'breakwater', 'breastplate', 'broom', 'bucket', 'buckle', 'bulletproof vest', 'high-speed train', 'butcher shop', 'taxicab', 'cauldron', 'candle', 'cannon', 'canoe', 'can opener', 'cardigan', 'car mirror', 'carousel', 'tool kit', 'cardboard box / carton', 'car wheel', 'automated teller machine', 'cassette', 'cassette player', 'castle', 'catamaran', 'CD player', 'cello', 'mobile phone', 'chain', 'chain-link fence', 'chain mail', 'chainsaw', 'storage chest', 'chiffonier', 'bell or wind chime', 'china cabinet', 'Christmas stocking', 'church', 'movie theater', 'cleaver', 'cliff dwelling', 'cloak', 'clogs', 'cocktail shaker', 'coffee mug', 'coffeemaker', 'spiral or coil', 'combination lock', 'computer keyboard', 'candy store', 'container ship', 'convertible', 'corkscrew', 'cornet', 'cowboy boot', 'cowboy hat', 'cradle', 'construction crane', 'crash helmet', 'crate', 'infant bed', 'Crock Pot', 'croquet ball', 'crutch', 'cuirass', 'dam', 'desk', 'desktop computer', 'rotary dial telephone', 'diaper', 'digital clock', 'digital watch', 'dining table', 'dishcloth', 'dishwasher', 'disc brake', 'dock', 'dog sled', 'dome', 'doormat', 'drilling rig', 'drum', 'drumstick', 'dumbbell', 'Dutch oven', 'electric fan', 'electric guitar', 'electric locomotive', 'entertainment center', 'envelope', 'espresso machine', 'face powder', 'feather boa', 'filing cabinet', 'fireboat', 'fire truck', 'fire screen', 'flagpole', 'flute', 'folding chair', 'football helmet', 'forklift', 'fountain', 'fountain pen', 'four-poster bed', 'freight car', 'French horn', 'frying pan', 'fur coat', 'garbage truck', 'gas mask or respirator', 'gas pump', 'goblet', 'go-kart', 'golf ball', 'golf cart', 'gondola', 'gong', 'gown', 'grand piano', 'greenhouse', 'radiator grille', 'grocery store', 'guillotine', 'hair clip', 'hair spray', 'half-track', 'hammer', 'hamper', 'hair dryer', 'hand-held computer', 'handkerchief', 'hard disk drive', 'harmonica', 'harp', 'combine harvester', 'hatchet', 'holster', 'home theater', 'honeycomb', 'hook', 'hoop skirt', 'gymnastic horizontal bar', 'horse-drawn vehicle', 'hourglass', 'iPod', 'clothes iron', 'carved pumpkin', 'jeans', 'jeep', 'T-shirt', 'jigsaw puzzle', 'rickshaw', 'joystick', 'kimono', 'knee pad', 'knot', 'lab coat', 'ladle', 'lampshade', 'laptop computer', 'lawn mower', 'lens cap', 'letter opener', 'library', 'lifeboat', 'lighter', 'limousine', 'ocean liner', 'lipstick', 'slip-on shoe', 'lotion', 'music speaker', 'loupe magnifying glass', 'sawmill', 'magnetic compass', 'messenger bag', 'mailbox', 'tights', 'one-piece bathing suit', 'manhole cover', 'maraca', 'marimba', 'mask', 'matchstick', 'maypole', 'maze', 'measuring cup', 'medicine cabinet', 'megalith', 'microphone', 'microwave oven', 'military uniform', 'milk can', 'minibus', 'miniskirt', 'minivan', 'missile', 'mitten', 'mixing bowl', 'mobile home', 'ford model t', 'modem', 'monastery', 'monitor', 'moped', 'mortar and pestle', 'graduation cap', 'mosque', 'mosquito net', 'vespa', 'mountain bike', 'tent', 'computer mouse', 'mousetrap', 'moving van', 'muzzle', 'metal nail', 'neck brace', 'necklace', 'baby pacifier', 'notebook computer', 'obelisk', 'oboe', 'ocarina', 'odometer', 'oil filter', 'pipe organ', 'oscilloscope', 'overskirt', 'bullock cart', 'oxygen mask', 'product packet / packaging', 'paddle', 'paddle wheel', 'padlock', 'paintbrush', 'pajamas', 'palace', 'pan flute', 'paper towel', 'parachute', 'parallel bars', 'park bench', 'parking meter', 'railroad car', 'patio', 'payphone', 'pedestal', 'pencil case', 'pencil sharpener', 'perfume', 'Petri dish', 'photocopier', 'plectrum', 'Pickelhaube', 'picket fence', 'pickup truck', 'pier', 'piggy bank', 'pill bottle', 'pillow', 'ping-pong ball', 'pinwheel', 'pirate ship', 'drink pitcher', 'block plane', 'planetarium', 'plastic bag', 'plate rack', 'farm plow', 'plunger', 'Polaroid camera', 'pole', 'police van', 'poncho', 'pool table', 'soda bottle', 'plant pot', \"potter's wheel\", 'power drill', 'prayer rug', 'printer', 'prison', 'missile', 'projector', 'hockey puck', 'punching bag', 'purse', 'quill', 'quilt', 'race car', 'racket', 'radiator', 'radio', 'radio telescope', 'rain barrel', 'recreational vehicle', 'fishing casting reel', 'reflex camera', 'refrigerator', 'remote control', 'restaurant', 'revolver', 'rifle', 'rocking chair', 'rotisserie', 'eraser', 'rugby ball', 'ruler measuring stick', 'sneaker', 'safe', 'safety pin', 'salt shaker', 'sandal', 'sarong', 'saxophone', 'scabbard', 'weighing scale', 'school bus', 'schooner', 'scoreboard', 'CRT monitor', 'screw', 'screwdriver', 'seat belt', 'sewing machine', 'shield', 'shoe store', 'shoji screen / room divider', 'shopping basket', 'shopping cart', 'shovel', 'shower cap', 'shower curtain', 'ski', 'balaclava ski mask', 'sleeping bag', 'slide rule', 'sliding door', 'slot machine', 'snorkel', 'snowmobile', 'snowplow', 'soap dispenser', 'soccer ball', 'sock', 'solar thermal collector', 'sombrero', 'soup bowl', 'keyboard space bar', 'space heater', 'space shuttle', 'spatula', 'motorboat', 'spider web', 'spindle', 'sports car', 'spotlight', 'stage', 'steam locomotive', 'through arch bridge', 'steel drum', 'stethoscope', 'scarf', 'stone wall', 'stopwatch', 'stove', 'strainer', 'tram', 'stretcher', 'couch', 'stupa', 'submarine', 'suit', 'sundial', 'sunglasses', 'sunglasses', 'sunscreen', 'suspension bridge', 'mop', 'sweatshirt', 'swim trunks / shorts', 'swing', 'electrical switch', 'syringe', 'table lamp', 'tank', 'tape player', 'teapot', 'teddy bear', 'television', 'tennis ball', 'thatched roof', 'front curtain', 'thimble', 'threshing machine', 'throne', 'tile roof', 'toaster', 'tobacco shop', 'toilet seat', 'torch', 'totem pole', 'tow truck', 'toy store', 'tractor', 'semi-trailer truck', 'tray', 'trench coat', 'tricycle', 'trimaran', 'tripod', 'triumphal arch', 'trolleybus', 'trombone', 'hot tub', 'turnstile', 'typewriter keyboard', 'umbrella', 'unicycle', 'upright piano', 'vacuum cleaner', 'vase', 'vaulted or arched ceiling', 'velvet fabric', 'vending machine', 'vestment', 'viaduct', 'violin', 'volleyball', 'waffle iron', 'wall clock', 'wallet', 'wardrobe', 'military aircraft', 'sink', 'washing machine', 'water bottle', 'water jug', 'water tower', 'whiskey jug', 'whistle', 'hair wig', 'window screen', 'window shade', 'Windsor tie', 'wine bottle', 'airplane wing', 'wok', 'wooden spoon', 'wool', 'split-rail fence', 'shipwreck', 'sailboat', 'yurt', 'website', 'comic book', 'crossword', 'traffic or street sign', 'traffic light', 'dust jacket', 'menu', 'plate', 'guacamole', 'consomme', 'hot pot', 'trifle', 'ice cream', 'popsicle', 'baguette', 'bagel', 'pretzel', 'cheeseburger', 'hot dog', 'mashed potatoes', 'cabbage', 'broccoli', 'cauliflower', 'zucchini', 'spaghetti squash', 'acorn squash', 'butternut squash', 'cucumber', 'artichoke', 'bell pepper', 'cardoon', 'mushroom', 'Granny Smith apple', 'strawberry', 'orange', 'lemon', 'fig', 'pineapple', 'banana', 'jackfruit', 'cherimoya (custard apple)', 'pomegranate', 'hay', 'carbonara', 'chocolate syrup', 'dough', 'meatloaf', 'pizza', 'pot pie', 'burrito', 'red wine', 'espresso', 'tea cup', 'eggnog', 'mountain', 'bubble', 'cliff', 'coral reef', 'geyser', 'lakeshore', 'promontory', 'sandbar', 'beach', 'valley', 'volcano', 'baseball player', 'bridegroom', 'scuba diver', 'rapeseed', 'daisy', \"yellow lady's slipper\", 'corn', 'acorn', 'rose hip', 'horse chestnut seed', 'coral fungus', 'agaric', 'gyromitra', 'stinkhorn mushroom', 'earth star fungus', 'hen of the woods mushroom', 'bolete', 'corn cob', 'toilet paper']\n",
      "Dataset number of classes: 1000\n",
      "Zero-shot templates: ['a bad photo of a {c}.', 'a photo of many {c}.', 'a sculpture of a {c}.', 'a photo of the hard to see {c}.', 'a low resolution photo of the {c}.', 'a rendering of a {c}.', 'graffiti of a {c}.', 'a bad photo of the {c}.', 'a cropped photo of the {c}.', 'a tattoo of a {c}.', 'the embroidered {c}.', 'a photo of a hard to see {c}.', 'a bright photo of a {c}.', 'a photo of a clean {c}.', 'a photo of a dirty {c}.', 'a dark photo of the {c}.', 'a drawing of a {c}.', 'a photo of my {c}.', 'the plastic {c}.', 'a photo of the cool {c}.', 'a close-up photo of a {c}.', 'a black and white photo of the {c}.', 'a painting of the {c}.', 'a painting of a {c}.', 'a pixelated photo of the {c}.', 'a sculpture of the {c}.', 'a bright photo of the {c}.', 'a cropped photo of a {c}.', 'a plastic {c}.', 'a photo of the dirty {c}.', 'a jpeg corrupted photo of a {c}.', 'a blurry photo of the {c}.', 'a photo of the {c}.', 'a good photo of the {c}.', 'a rendering of the {c}.', 'a {c} in a video game.', 'a photo of one {c}.', 'a doodle of a {c}.', 'a close-up photo of the {c}.', 'a photo of a {c}.', 'the origami {c}.', 'the {c} in a video game.', 'a sketch of a {c}.', 'a doodle of the {c}.', 'a origami {c}.', 'a low resolution photo of a {c}.', 'the toy {c}.', 'a rendition of the {c}.', 'a photo of the clean {c}.', 'a photo of a large {c}.', 'a rendition of a {c}.', 'a photo of a nice {c}.', 'a photo of a weird {c}.', 'a blurry photo of a {c}.', 'a cartoon {c}.', 'art of a {c}.', 'a sketch of the {c}.', 'a embroidered {c}.', 'a pixelated photo of a {c}.', 'itap of the {c}.', 'a jpeg corrupted photo of the {c}.', 'a good photo of a {c}.', 'a plushie {c}.', 'a photo of the nice {c}.', 'a photo of the small {c}.', 'a photo of the weird {c}.', 'the cartoon {c}.', 'art of the {c}.', 'a drawing of the {c}.', 'a photo of the large {c}.', 'a black and white photo of a {c}.', 'the plushie {c}.', 'a dark photo of a {c}.', 'itap of a {c}.', 'graffiti of the {c}.', 'a toy {c}.', 'itap of my {c}.', 'a photo of a cool {c}.', 'a photo of a small {c}.', 'a tattoo of the {c}.']\n",
      " 18%|███████                                 | 175/1000 [00:12<01:00, 13.71it/s]"
     ]
    }
   ],
   "source": [
    "!CUDA_VISIBLE_DEVICES=2 VISUAL_MODEL=visual_export-fp32-45sparse-obc_v2.onnx TEXTUAL_MODEL=textual_export-fp32-48sparse-obc_coco_10k.onnx clip_benchmark eval \\\n",
    "    --dataset=imagenet1k \\\n",
    "    --task=zeroshot_classification \\\n",
    "    --pretrained=laion400m_e32 --model=ViT-B-16-plus-240 \\\n",
    "    --batch_size=64 --model_type onnx_clip \\\n",
    "    --output=result-visual-50sparse-obc-fp32-textual-50sparse-obc-fp32-imagenet.json "
   ]
  },
  {
   "cell_type": "code",
   "execution_count": null,
   "metadata": {},
   "outputs": [],
   "source": [
    "!cat result-visual-50sparse-obc-fp32-textual-50sparse-obc-fp32-imagenet.json "
   ]
  },
  {
   "cell_type": "code",
   "execution_count": 63,
   "metadata": {},
   "outputs": [
    {
     "name": "stdout",
     "output_type": "stream",
     "text": [
      "{\"dataset\": \"imagenet1k\", \"model\": \"ViT-B-16-plus-240\", \"pretrained\": \"laion400m_e32\", \"task\": \"zeroshot_classification\", \"metrics\": {\"acc1\": 0.69204, \"acc5\": 0.91476, \"mean_per_class_recall\": 0.6920799999999999}, \"language\": \"en\"}"
     ]
    }
   ],
   "source": [
    "!cat result-visual-dense-fp32-textual-dense-fp32-imagenet.json "
   ]
  },
  {
   "cell_type": "code",
   "execution_count": 59,
   "metadata": {},
   "outputs": [
    {
     "name": "stdout",
     "output_type": "stream",
     "text": [
      "{\"dataset\": \"wds/flickr30k\", \"model\": \"ViT-B-16-plus-240\", \"pretrained\": \"laion400m_e32\", \"task\": \"zeroshot_retrieval\", \"metrics\": {\"image_retrieval_recall@5\": 0.8844000101089478, \"text_retrieval_recall@5\": 0.9670000076293945}, \"language\": \"en\"}"
     ]
    }
   ],
   "source": [
    "!cat result-visual-50sparse-obc-int8-textual-dense-fp32-flickr30k.json "
   ]
  },
  {
   "cell_type": "code",
   "execution_count": 56,
   "metadata": {},
   "outputs": [
    {
     "name": "stdout",
     "output_type": "stream",
     "text": [
      "{\"dataset\": \"wds/flickr30k\", \"model\": \"ViT-B-16-plus-240\", \"pretrained\": \"laion400m_e32\", \"task\": \"zeroshot_retrieval\", \"metrics\": {\"image_retrieval_recall@5\": 0.876800000667572, \"text_retrieval_recall@5\": 0.9670000076293945}, \"language\": \"en\"}"
     ]
    }
   ],
   "source": [
    "!cat result-visual-dense-fp32-textual-50sparse-obc-int8-flickr30k.json"
   ]
  },
  {
   "cell_type": "code",
   "execution_count": 54,
   "metadata": {},
   "outputs": [
    {
     "name": "stdout",
     "output_type": "stream",
     "text": [
      "{\"dataset\": \"wds/flickr30k\", \"model\": \"ViT-B-16-plus-240\", \"pretrained\": \"laion400m_e32\", \"task\": \"zeroshot_retrieval\", \"metrics\": {\"image_retrieval_recall@5\": 0.8838000297546387, \"text_retrieval_recall@5\": 0.9700000286102295}, \"language\": \"en\"}"
     ]
    }
   ],
   "source": [
    "!cat result-visual-dense-int8-textual-dense-int8-flickr30k.json"
   ]
  },
  {
   "cell_type": "code",
   "execution_count": 52,
   "metadata": {},
   "outputs": [
    {
     "name": "stdout",
     "output_type": "stream",
     "text": [
      "cat: result-visual-dense-int8-textual-dense-int8-flickr30k.json: No such file or directory\n"
     ]
    }
   ],
   "source": [
    "!cat result-visual-dense-int8-textual-dense-int8-flickr30k.json"
   ]
  },
  {
   "cell_type": "code",
   "execution_count": 47,
   "metadata": {},
   "outputs": [
    {
     "name": "stdout",
     "output_type": "stream",
     "text": [
      "{\"dataset\": \"wds/flickr30k\", \"model\": \"ViT-B-16-plus-240\", \"pretrained\": \"laion400m_e32\", \"task\": \"zeroshot_retrieval\", \"metrics\": {\"image_retrieval_recall@5\": 0.8737999796867371, \"text_retrieval_recall@5\": 0.949999988079071}, \"language\": \"en\"}"
     ]
    }
   ],
   "source": [
    "!cat result-visual-50sparse-obc-int8-textual-50sparse-obc-int8-flickr30k.json"
   ]
  },
  {
   "cell_type": "code",
   "execution_count": 41,
   "metadata": {},
   "outputs": [
    {
     "name": "stdout",
     "output_type": "stream",
     "text": [
      "{\"dataset\": \"wds/flickr30k\", \"model\": \"ViT-B-16-plus-240\", \"pretrained\": \"laion400m_e32\", \"task\": \"zeroshot_retrieval\", \"metrics\": {\"image_retrieval_recall@5\": 0.8845999836921692, \"text_retrieval_recall@5\": 0.9589999914169312}, \"language\": \"en\"}"
     ]
    }
   ],
   "source": [
    "!cat result-visual-50sparse-obc-fp32-textual-50sparse-obc-fp32-flickr30k.json"
   ]
  },
  {
   "cell_type": "code",
   "execution_count": 38,
   "metadata": {},
   "outputs": [
    {
     "name": "stdout",
     "output_type": "stream",
     "text": [
      "{\"dataset\": \"wds/flickr30k\", \"model\": \"ViT-B-16-plus-240\", \"pretrained\": \"laion400m_e32\", \"task\": \"zeroshot_retrieval\", \"metrics\": {\"image_retrieval_recall@5\": 0.8889999985694885, \"text_retrieval_recall@5\": 0.9710000157356262}, \"language\": \"en\"}"
     ]
    }
   ],
   "source": [
    "!cat result-visual-dense-fp32-textual-dense-fp32-flickr30k.json"
   ]
  },
  {
   "cell_type": "code",
   "execution_count": 36,
   "metadata": {},
   "outputs": [
    {
     "name": "stdout",
     "output_type": "stream",
     "text": [
      "{\"dataset\": \"wds/flickr8k\", \"model\": \"ViT-B-16-plus-240\", \"pretrained\": \"laion400m_e32\", \"task\": \"zeroshot_retrieval\", \"metrics\": {\"image_retrieval_recall@5\": 0.8615999817848206, \"text_retrieval_recall@5\": 0.9459999799728394}, \"language\": \"en\"}"
     ]
    }
   ],
   "source": [
    "!cat result-visual-dense-int8-textual-dense-int8-flickr8k.json"
   ]
  },
  {
   "cell_type": "code",
   "execution_count": 33,
   "metadata": {},
   "outputs": [
    {
     "name": "stdout",
     "output_type": "stream",
     "text": [
      "{\"dataset\": \"wds/flickr8k\", \"model\": \"ViT-B-16-plus-240\", \"pretrained\": \"laion400m_e32\", \"task\": \"zeroshot_retrieval\", \"metrics\": {\"image_retrieval_recall@5\": 0.8622000217437744, \"text_retrieval_recall@5\": 0.9369999766349792}, \"language\": \"en\"}"
     ]
    }
   ],
   "source": [
    "!cat result-visual-dense-fp32-textual-50sparse-obc-int8-flickr8k.json "
   ]
  },
  {
   "cell_type": "code",
   "execution_count": 30,
   "metadata": {},
   "outputs": [
    {
     "name": "stdout",
     "output_type": "stream",
     "text": [
      "{\"dataset\": \"wds/flickr8k\", \"model\": \"ViT-B-16-plus-240\", \"pretrained\": \"laion400m_e32\", \"task\": \"zeroshot_retrieval\", \"metrics\": {\"image_retrieval_recall@5\": 0.8658000230789185, \"text_retrieval_recall@5\": 0.9430000185966492}, \"language\": \"en\"}"
     ]
    }
   ],
   "source": [
    "!cat result-visual-50sparse-obc-int8-textual-dense-fp32-flickr8k.json "
   ]
  },
  {
   "cell_type": "code",
   "execution_count": 28,
   "metadata": {},
   "outputs": [
    {
     "name": "stdout",
     "output_type": "stream",
     "text": [
      "{\"dataset\": \"wds/flickr8k\", \"model\": \"ViT-B-16-plus-240\", \"pretrained\": \"laion400m_e32\", \"task\": \"zeroshot_retrieval\", \"metrics\": {\"image_retrieval_recall@5\": 0.8479999899864197, \"text_retrieval_recall@5\": 0.9350000023841858}, \"language\": \"en\"}"
     ]
    }
   ],
   "source": [
    "!cat result-visual-50sparse-obc-int8-textual-50sparse-obc-int8-flickr8k.json "
   ]
  },
  {
   "cell_type": "code",
   "execution_count": 27,
   "metadata": {},
   "outputs": [
    {
     "name": "stdout",
     "output_type": "stream",
     "text": [
      "{\"dataset\": \"wds/flickr8k\", \"model\": \"ViT-B-16-plus-240\", \"pretrained\": \"laion400m_e32\", \"task\": \"zeroshot_retrieval\", \"metrics\": {\"image_retrieval_recall@5\": 0.8700000047683716, \"text_retrieval_recall@5\": 0.9509999752044678}, \"language\": \"en\"}"
     ]
    }
   ],
   "source": [
    "!cat result-visual-50sparse-obc-fp32-textual-50sparse-obc-fp32-flickr8k.json"
   ]
  },
  {
   "cell_type": "code",
   "execution_count": 32,
   "metadata": {},
   "outputs": [
    {
     "name": "stdout",
     "output_type": "stream",
     "text": [
      "cat: result-visual-dense-fp32-textual-dense-fp32-flickr8k.json: No such file or directory\n"
     ]
    }
   ],
   "source": [
    "!cat result-visual-dense-fp32-textual-dense-fp32-flickr8k.json"
   ]
  },
  {
   "cell_type": "code",
   "execution_count": null,
   "metadata": {},
   "outputs": [],
   "source": [
    "!CUDA_VISIBLE_DEVICES=2 VISUAL_MODEL=visual_export-fp32-45sparse-obc_v2-int8-obq-dense.onnx TEXTUAL_MODEL=textual_export.onnx clip_benchmark eval \\\n",
    "    --dataset=wds/flickr30k \\\n",
    "    --dataset_root=https://huggingface.co/datasets/clip-benchmark/wds_flickr30k/tree/main \\\n",
    "    --task=zeroshot_retrieval \\\n",
    "    --pretrained=laion400m_e32 --model=ViT-B-16-plus-240 \\\n",
    "    --batch_size=64 --model_type deepsparse_clip \\\n",
    "    --output=result-visual-50sparse-obc-int8-textual-dense-fp32-flickr30k.json "
   ]
  }
 ],
 "metadata": {
  "kernelspec": {
   "display_name": "clip-venv",
   "language": "python",
   "name": "python3"
  },
  "language_info": {
   "codemirror_mode": {
    "name": "ipython",
    "version": 3
   },
   "file_extension": ".py",
   "mimetype": "text/x-python",
   "name": "python",
   "nbconvert_exporter": "python",
   "pygments_lexer": "ipython3",
   "version": "3.10.9"
  },
  "orig_nbformat": 4
 },
 "nbformat": 4,
 "nbformat_minor": 2
}
